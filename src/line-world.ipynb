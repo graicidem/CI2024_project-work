{
 "cells": [
  {
   "cell_type": "markdown",
   "metadata": {},
   "source": [
    "Copyright **`(c)`** 2024 Giovanni Squillero `<giovanni.squillero@polito.it>`  \n",
    "[`https://github.com/squillero/computational-intelligence`](https://github.com/squillero/computational-intelligence)  \n",
    "Free for personal or classroom use; see [`LICENSE.md`](https://github.com/squillero/computational-intelligence/blob/master/LICENSE.md) for details.  "
   ]
  },
  {
   "cell_type": "code",
   "execution_count": null,
   "metadata": {},
   "outputs": [],
   "source": [
    "import numpy as np\n",
    "from icecream import ic"
   ]
  },
  {
   "cell_type": "code",
   "execution_count": null,
   "metadata": {},
   "outputs": [],
   "source": [
    "LENGTH=10   #I have 10 value so i might have 10 states->list, nparray or dictionary\n",
    "GOAL_LEFT=7\n",
    "GOAL_RIGHT=10\n",
    "MOVE_PENALTY=-1"
   ]
  },
  {
   "cell_type": "code",
   "execution_count": null,
   "metadata": {},
   "outputs": [],
   "source": [
    "# def possible_actions(index):\n",
    "#     if index==0 or index==LENGTH-1: #if I'm in the beginnig or in the end the best i can do is to stay where I am\n",
    "#         return[0]\n",
    "#     else:\n",
    "#         return[-1, 1]  \n",
    "\n",
    "# v=np.array([GOAL_LEFT]+[0]*(LENGTH-2)+[GOAL_RIGHT])\n",
    "# v  "
   ]
  },
  {
   "cell_type": "code",
   "execution_count": null,
   "metadata": {},
   "outputs": [],
   "source": [
    "def policy(state):\n",
    "    if state==0 or state==LENGTH-1:\n",
    "        return[(1, 0, 0)]\n",
    "    elif state==1:\n",
    "        return[(.5, GOAL_LEFT, -1),(.5, -1, 1)]\n",
    "    elif state==LENGTH-2:\n",
    "        return[(.5, -1, -1),(.5, GOAL_RIGHT, 1)]\n",
    "    else:\n",
    "        return[(.5, -1, -1),(.5, -1, 1)]"
   ]
  },
  {
   "cell_type": "code",
   "execution_count": null,
   "metadata": {},
   "outputs": [],
   "source": [
    "v={i:0 for i in range(LENGTH)}\n",
    "# v[0]=GOAL_LEFT\n",
    "# v[LENGTH-1]=GOAL_RIGHT\n",
    "v"
   ]
  },
  {
   "cell_type": "code",
   "execution_count": null,
   "metadata": {},
   "outputs": [],
   "source": [
    "# for _ in range(1000_000):\n",
    "v_next=dict()\n",
    "new_value=0\n",
    "for state in v:  \n",
    "    for p,r, a in policy(state):\n",
    "        new_value+=p*(r + v[state+a])\n",
    "    v_next[state]=new_value\n",
    "v=v_next\n",
    "v"
   ]
  }
 ],
 "metadata": {
  "kernelspec": {
   "display_name": "ci",
   "language": "python",
   "name": "python3"
  },
  "language_info": {
   "codemirror_mode": {
    "name": "ipython",
    "version": 3
   },
   "file_extension": ".py",
   "mimetype": "text/x-python",
   "name": "python",
   "nbconvert_exporter": "python",
   "pygments_lexer": "ipython3",
   "version": "3.10.11"
  }
 },
 "nbformat": 4,
 "nbformat_minor": 2
}
